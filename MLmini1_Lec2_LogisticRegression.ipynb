{
  "nbformat": 4,
  "nbformat_minor": 0,
  "metadata": {
    "colab": {
      "name": "MLmini1-Lec2-LogisticRegression.ipynb",
      "provenance": [],
      "collapsed_sections": [],
      "toc_visible": true,
      "authorship_tag": "ABX9TyOhaFb9uVBJV4NZRPeVVcPX",
      "include_colab_link": true
    },
    "kernelspec": {
      "name": "python3",
      "display_name": "Python 3"
    }
  },
  "cells": [
    {
      "cell_type": "markdown",
      "metadata": {
        "id": "view-in-github",
        "colab_type": "text"
      },
      "source": [
        "<a href=\"https://colab.research.google.com/github/M-H-Amini/MachineLearningMini-Summer1399/blob/master/MLmini1_Lec2_LogisticRegression.ipynb\" target=\"_parent\"><img src=\"https://colab.research.google.com/assets/colab-badge.svg\" alt=\"Open In Colab\"/></a>"
      ]
    },
    {
      "cell_type": "markdown",
      "metadata": {
        "id": "4VSHi4Ii52L3",
        "colab_type": "text"
      },
      "source": [
        "# In The Name Of ALLAH\n",
        "# Machine Learning *mini* Course\n",
        "## PythonChallenge.ir\n",
        "### Mohammad Hossein Amini (mhamini@aut.ac.ir)\n",
        "# Lecture 2 - Logistic Regression\n",
        "<img src=\"https://github.com/M-H-Amini/MachineLearningMini-Summer1399/blob/master/stuff/W.jpg?raw=true\" width=600>"
      ]
    },
    {
      "cell_type": "markdown",
      "metadata": {
        "id": "J-kYgC4K6BYg",
        "colab_type": "text"
      },
      "source": [
        "# Introduction\n",
        "The theoretical stuff has been discussed in the lectures. Let's see how to implement them. We'd use logistic regression for the **heart disease** dataset."
      ]
    },
    {
      "cell_type": "code",
      "metadata": {
        "id": "-mSSgmwc0YhW",
        "colab_type": "code",
        "colab": {}
      },
      "source": [
        "import keras\n",
        "import numpy as np\n",
        "import pandas as pd\n",
        "import matplotlib.pyplot as plt"
      ],
      "execution_count": null,
      "outputs": []
    },
    {
      "cell_type": "markdown",
      "metadata": {
        "id": "8egaqn6t6XQB",
        "colab_type": "text"
      },
      "source": [
        "# Dataset Preparation"
      ]
    },
    {
      "cell_type": "code",
      "metadata": {
        "id": "V7qCuXMf0sL6",
        "colab_type": "code",
        "colab": {}
      },
      "source": [
        "ds = pd.read_csv('heart.csv')\n",
        "ds.tail()"
      ],
      "execution_count": null,
      "outputs": []
    },
    {
      "cell_type": "code",
      "metadata": {
        "id": "8XOfg4i-1CWH",
        "colab_type": "code",
        "colab": {}
      },
      "source": [
        "ds = ds.sample(frac=1.).reset_index(drop=True)\n",
        "ds.head()"
      ],
      "execution_count": null,
      "outputs": []
    },
    {
      "cell_type": "code",
      "metadata": {
        "id": "N-X0M0sDMqN5",
        "colab_type": "code",
        "colab": {}
      },
      "source": [
        "print(ds.shape)"
      ],
      "execution_count": null,
      "outputs": []
    },
    {
      "cell_type": "code",
      "metadata": {
        "id": "swTHOboo2VAD",
        "colab_type": "code",
        "colab": {}
      },
      "source": [
        "ds_arr = np.array(ds)\n",
        "split_frac = 0.9\n",
        "X_train = ds_arr[: int(ds_arr.shape[0] * split_frac), :-1]\n",
        "y_train = ds_arr[: int(ds_arr.shape[0] * split_frac), -1]\n",
        "X_test = ds_arr[int(ds_arr.shape[0] * split_frac) :, :-1]\n",
        "y_test = ds_arr[int(ds_arr.shape[0] * split_frac) :, -1]"
      ],
      "execution_count": null,
      "outputs": []
    },
    {
      "cell_type": "markdown",
      "metadata": {
        "id": "8xusLYh_97jX",
        "colab_type": "text"
      },
      "source": [
        "<img src=\"https://github.com/M-H-Amini/MachineLearningMini-Summer1399/blob/master/stuff/f2.jpg?raw=true\" width=400>"
      ]
    },
    {
      "cell_type": "markdown",
      "metadata": {
        "id": "_pqaMtOu6pN9",
        "colab_type": "text"
      },
      "source": [
        "# Model Creation"
      ]
    },
    {
      "cell_type": "code",
      "metadata": {
        "id": "RguKlLc41zZx",
        "colab_type": "code",
        "colab": {}
      },
      "source": [
        "model = keras.Sequential(keras.layers.Dense(1, activation='sigmoid', input_shape=(13,)))\n",
        "model.summary()\n",
        "model.compile(optimizer='adam', loss='binary_crossentropy', metrics=['accuracy'])"
      ],
      "execution_count": null,
      "outputs": []
    },
    {
      "cell_type": "code",
      "metadata": {
        "id": "K4wkeKzP2Rdl",
        "colab_type": "code",
        "colab": {}
      },
      "source": [
        "model.fit(X_train, y_train, batch_size=16, epochs=100, validation_data=(X_test, y_test))"
      ],
      "execution_count": null,
      "outputs": []
    },
    {
      "cell_type": "markdown",
      "metadata": {
        "id": "N41Y8M3q6zqi",
        "colab_type": "text"
      },
      "source": [
        "# Testing The Model"
      ]
    },
    {
      "cell_type": "code",
      "metadata": {
        "id": "URTie5Jj3cA1",
        "colab_type": "code",
        "colab": {}
      },
      "source": [
        "outputs = model.predict(X_test)\n",
        "for i in range(X_test.shape[0]):\n",
        "  print(f'No {i+1} \\t Target:{y_test[i]} \\t Predicted:{outputs[i, 0]}')"
      ],
      "execution_count": null,
      "outputs": []
    },
    {
      "cell_type": "markdown",
      "metadata": {
        "id": "LdBhSZw8628g",
        "colab_type": "text"
      },
      "source": [
        "Although the result seems satisfactory, we did something unprofessional! with the dataset. Can you guess what?"
      ]
    }
  ]
}